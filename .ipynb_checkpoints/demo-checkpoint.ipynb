{
 "cells": [
  {
   "cell_type": "code",
   "execution_count": 17,
   "metadata": {
    "collapsed": false
   },
   "outputs": [
    {
     "name": "stdout",
     "output_type": "stream",
     "text": [
      "                       abbr_1                  abbr_2  \\\n",
      "team                                                    \n",
      "Boston Celtics            bos          boston-celtics   \n",
      "Brooklyn Nets             bkn           brooklyn-nets   \n",
      "New York Knicks            ny         new-york-knicks   \n",
      "Philadelphia 76ers        phi      philadelphia-76ers   \n",
      "Toronto Raptors           tor         toronto-raptors   \n",
      "Golden State Warriors      gs   golden-state-warriors   \n",
      "LA Clippers               lac             la-clippers   \n",
      "Los Angeles Lakers        lal      los-angeles-lakers   \n",
      "Phoenix Suns              phx            phoenix-suns   \n",
      "Sacramento Kings          sac        sacramento-kings   \n",
      "Chicago Bulls             chi           chicago-bulls   \n",
      "Cleveland Cavaliers       cle     cleveland-cavaliers   \n",
      "Detroit Pistons           det         detroit-pistons   \n",
      "Indiana Pacers            ind          indiana-pacers   \n",
      "Milwaukee Bucks           mil         milwaukee-bucks   \n",
      "Dallas Mavericks          dal        dallas-mavericks   \n",
      "Houston Rockets           hou         houston-rockets   \n",
      "Memphis Grizzlies         mem       memphis-grizzlies   \n",
      "New Orleans Pelicans       no    new-orleans-pelicans   \n",
      "San Antonio Spurs          sa       san-antonio-spurs   \n",
      "Atlanta Hawks             atl           atlanta-hawks   \n",
      "Charlotte Hornets         cha       charlotte-hornets   \n",
      "Miami Heat                mia              miami-heat   \n",
      "Orlando Magic             orl           orlando-magic   \n",
      "Washington Wizards        wsh      washington-wizards   \n",
      "Denver Nuggets            den          denver-nuggets   \n",
      "Minnesota Timberwolves    min  minnesota-timberwolves   \n",
      "Oklahoma City Thunder     okc   oklahoma-city-thunder   \n",
      "Portland Trail Blazers    por  portland-trail-blazers   \n",
      "Utah Jazz                utah               utah-jazz   \n",
      "\n",
      "                                                                      url  \n",
      "team                                                                       \n",
      "Boston Celtics          http://www.espn.com/nba/team/_/name/bos/boston...  \n",
      "Brooklyn Nets           http://www.espn.com/nba/team/_/name/bkn/brookl...  \n",
      "New York Knicks         http://www.espn.com/nba/team/_/name/ny/new-yor...  \n",
      "Philadelphia 76ers      http://www.espn.com/nba/team/_/name/phi/philad...  \n",
      "Toronto Raptors         http://www.espn.com/nba/team/_/name/tor/toront...  \n",
      "Golden State Warriors   http://www.espn.com/nba/team/_/name/gs/golden-...  \n",
      "LA Clippers             http://www.espn.com/nba/team/_/name/lac/la-cli...  \n",
      "Los Angeles Lakers      http://www.espn.com/nba/team/_/name/lal/los-an...  \n",
      "Phoenix Suns            http://www.espn.com/nba/team/_/name/phx/phoeni...  \n",
      "Sacramento Kings        http://www.espn.com/nba/team/_/name/sac/sacram...  \n",
      "Chicago Bulls           http://www.espn.com/nba/team/_/name/chi/chicag...  \n",
      "Cleveland Cavaliers     http://www.espn.com/nba/team/_/name/cle/clevel...  \n",
      "Detroit Pistons         http://www.espn.com/nba/team/_/name/det/detroi...  \n",
      "Indiana Pacers          http://www.espn.com/nba/team/_/name/ind/indian...  \n",
      "Milwaukee Bucks         http://www.espn.com/nba/team/_/name/mil/milwau...  \n",
      "Dallas Mavericks        http://www.espn.com/nba/team/_/name/dal/dallas...  \n",
      "Houston Rockets         http://www.espn.com/nba/team/_/name/hou/housto...  \n",
      "Memphis Grizzlies       http://www.espn.com/nba/team/_/name/mem/memphi...  \n",
      "New Orleans Pelicans    http://www.espn.com/nba/team/_/name/no/new-orl...  \n",
      "San Antonio Spurs       http://www.espn.com/nba/team/_/name/sa/san-ant...  \n",
      "Atlanta Hawks           http://www.espn.com/nba/team/_/name/atl/atlant...  \n",
      "Charlotte Hornets       http://www.espn.com/nba/team/_/name/cha/charlo...  \n",
      "Miami Heat              http://www.espn.com/nba/team/_/name/mia/miami-...  \n",
      "Orlando Magic           http://www.espn.com/nba/team/_/name/orl/orland...  \n",
      "Washington Wizards      http://www.espn.com/nba/team/_/name/wsh/washin...  \n",
      "Denver Nuggets          http://www.espn.com/nba/team/_/name/den/denver...  \n",
      "Minnesota Timberwolves  http://www.espn.com/nba/team/_/name/min/minnes...  \n",
      "Oklahoma City Thunder   http://www.espn.com/nba/team/_/name/okc/oklaho...  \n",
      "Portland Trail Blazers  http://www.espn.com/nba/team/_/name/por/portla...  \n",
      "Utah Jazz               http://www.espn.com/nba/team/_/name/utah/utah-...  \n"
     ]
    }
   ],
   "source": [
    "import csv\n",
    "import pandas as pd\n",
    "import requests\n",
    "from bs4 import BeautifulSoup\n",
    "\n",
    "\n",
    "url = 'http://espn.go.com/nba/teams'\n",
    "r = requests.get(url)\n",
    "\n",
    "f = open('A.csv', 'w')\n",
    "\n",
    "soup = BeautifulSoup(r.text)\n",
    "tables = soup.find_all('ul', class_='medium-logos')\n",
    "\n",
    "teams = []\n",
    "abbr_1 = []\n",
    "abbr_2 = []\n",
    "teams_urls = []\n",
    "for table in tables:\n",
    "    lis = table.find_all('li')\n",
    "    for li in lis:\n",
    "        info = li.h5.a\n",
    "        teams.append(info.text)\n",
    "        url = info['href']\n",
    "        teams_urls.append(url)\n",
    "        abbr_1.append(url.split('/')[-2])\n",
    "        abbr_2.append(url.split('/')[-1])\n",
    "\n",
    "\n",
    "dic = {'url': teams_urls, 'abbr_1': abbr_1, 'abbr_2': abbr_2}\n",
    "\n",
    "teams = pd.DataFrame(dic, index=teams)\n",
    "teams.index.name = 'team'\n",
    "print(teams)\n",
    "\n",
    "teams.to_csv('team.csv')\n",
    "\n",
    "f.close()\n",
    "\n"
   ]
  },
  {
   "cell_type": "code",
   "execution_count": 18,
   "metadata": {
    "collapsed": false
   },
   "outputs": [
    {
     "ename": "NameError",
     "evalue": "name 'team' is not defined",
     "output_type": "error",
     "traceback": [
      "\u001b[0;31m---------------------------------------------------------------------------\u001b[0m",
      "\u001b[0;31mNameError\u001b[0m                                 Traceback (most recent call last)",
      "\u001b[0;32m<ipython-input-18-4af6ac24bedc>\u001b[0m in \u001b[0;36m<module>\u001b[0;34m()\u001b[0m\n\u001b[0;32m----> 1\u001b[0;31m \u001b[0mteam\u001b[0m\u001b[1;33m.\u001b[0m\u001b[0mpy\u001b[0m\u001b[1;33m\u001b[0m\u001b[0m\n\u001b[0m",
      "\u001b[0;31mNameError\u001b[0m: name 'team' is not defined"
     ]
    }
   ],
   "source": [
    "team.py\n"
   ]
  },
  {
   "cell_type": "code",
   "execution_count": 22,
   "metadata": {
    "collapsed": false
   },
   "outputs": [
    {
     "ename": "SyntaxError",
     "evalue": "invalid syntax (<ipython-input-22-2e5f4ace8c55>, line 1)",
     "output_type": "error",
     "traceback": [
      "\u001b[0;36m  File \u001b[0;32m\"<ipython-input-22-2e5f4ace8c55>\"\u001b[0;36m, line \u001b[0;32m1\u001b[0m\n\u001b[0;31m    python team.py\u001b[0m\n\u001b[0m              ^\u001b[0m\n\u001b[0;31mSyntaxError\u001b[0m\u001b[0;31m:\u001b[0m invalid syntax\n"
     ]
    }
   ],
   "source": [
    "python team.py\n"
   ]
  },
  {
   "cell_type": "code",
   "execution_count": 23,
   "metadata": {
    "collapsed": false
   },
   "outputs": [
    {
     "ename": "SyntaxError",
     "evalue": "invalid syntax (<ipython-input-23-2e5f4ace8c55>, line 1)",
     "output_type": "error",
     "traceback": [
      "\u001b[0;36m  File \u001b[0;32m\"<ipython-input-23-2e5f4ace8c55>\"\u001b[0;36m, line \u001b[0;32m1\u001b[0m\n\u001b[0;31m    python team.py\u001b[0m\n\u001b[0m              ^\u001b[0m\n\u001b[0;31mSyntaxError\u001b[0m\u001b[0;31m:\u001b[0m invalid syntax\n"
     ]
    }
   ],
   "source": [
    "python team.py"
   ]
  },
  {
   "cell_type": "code",
   "execution_count": 24,
   "metadata": {
    "collapsed": false
   },
   "outputs": [
    {
     "name": "stdout",
     "output_type": "stream",
     "text": [
      "                       abbr_1                  abbr_2  \\\n",
      "team                                                    \n",
      "Boston Celtics            bos          boston-celtics   \n",
      "Brooklyn Nets             bkn           brooklyn-nets   \n",
      "New York Knicks            ny         new-york-knicks   \n",
      "Philadelphia 76ers        phi      philadelphia-76ers   \n",
      "Toronto Raptors           tor         toronto-raptors   \n",
      "Golden State Warriors      gs   golden-state-warriors   \n",
      "LA Clippers               lac             la-clippers   \n",
      "Los Angeles Lakers        lal      los-angeles-lakers   \n",
      "Phoenix Suns              phx            phoenix-suns   \n",
      "Sacramento Kings          sac        sacramento-kings   \n",
      "Chicago Bulls             chi           chicago-bulls   \n",
      "Cleveland Cavaliers       cle     cleveland-cavaliers   \n",
      "Detroit Pistons           det         detroit-pistons   \n",
      "Indiana Pacers            ind          indiana-pacers   \n",
      "Milwaukee Bucks           mil         milwaukee-bucks   \n",
      "Dallas Mavericks          dal        dallas-mavericks   \n",
      "Houston Rockets           hou         houston-rockets   \n",
      "Memphis Grizzlies         mem       memphis-grizzlies   \n",
      "New Orleans Pelicans       no    new-orleans-pelicans   \n",
      "San Antonio Spurs          sa       san-antonio-spurs   \n",
      "Atlanta Hawks             atl           atlanta-hawks   \n",
      "Charlotte Hornets         cha       charlotte-hornets   \n",
      "Miami Heat                mia              miami-heat   \n",
      "Orlando Magic             orl           orlando-magic   \n",
      "Washington Wizards        wsh      washington-wizards   \n",
      "Denver Nuggets            den          denver-nuggets   \n",
      "Minnesota Timberwolves    min  minnesota-timberwolves   \n",
      "Oklahoma City Thunder     okc   oklahoma-city-thunder   \n",
      "Portland Trail Blazers    por  portland-trail-blazers   \n",
      "Utah Jazz                utah               utah-jazz   \n",
      "\n",
      "                                                                      url  \n",
      "team                                                                       \n",
      "Boston Celtics          http://www.espn.com/nba/team/_/name/bos/boston...  \n",
      "Brooklyn Nets           http://www.espn.com/nba/team/_/name/bkn/brookl...  \n",
      "New York Knicks         http://www.espn.com/nba/team/_/name/ny/new-yor...  \n",
      "Philadelphia 76ers      http://www.espn.com/nba/team/_/name/phi/philad...  \n",
      "Toronto Raptors         http://www.espn.com/nba/team/_/name/tor/toront...  \n",
      "Golden State Warriors   http://www.espn.com/nba/team/_/name/gs/golden-...  \n",
      "LA Clippers             http://www.espn.com/nba/team/_/name/lac/la-cli...  \n",
      "Los Angeles Lakers      http://www.espn.com/nba/team/_/name/lal/los-an...  \n",
      "Phoenix Suns            http://www.espn.com/nba/team/_/name/phx/phoeni...  \n",
      "Sacramento Kings        http://www.espn.com/nba/team/_/name/sac/sacram...  \n",
      "Chicago Bulls           http://www.espn.com/nba/team/_/name/chi/chicag...  \n",
      "Cleveland Cavaliers     http://www.espn.com/nba/team/_/name/cle/clevel...  \n",
      "Detroit Pistons         http://www.espn.com/nba/team/_/name/det/detroi...  \n",
      "Indiana Pacers          http://www.espn.com/nba/team/_/name/ind/indian...  \n",
      "Milwaukee Bucks         http://www.espn.com/nba/team/_/name/mil/milwau...  \n",
      "Dallas Mavericks        http://www.espn.com/nba/team/_/name/dal/dallas...  \n",
      "Houston Rockets         http://www.espn.com/nba/team/_/name/hou/housto...  \n",
      "Memphis Grizzlies       http://www.espn.com/nba/team/_/name/mem/memphi...  \n",
      "New Orleans Pelicans    http://www.espn.com/nba/team/_/name/no/new-orl...  \n",
      "San Antonio Spurs       http://www.espn.com/nba/team/_/name/sa/san-ant...  \n",
      "Atlanta Hawks           http://www.espn.com/nba/team/_/name/atl/atlant...  \n",
      "Charlotte Hornets       http://www.espn.com/nba/team/_/name/cha/charlo...  \n",
      "Miami Heat              http://www.espn.com/nba/team/_/name/mia/miami-...  \n",
      "Orlando Magic           http://www.espn.com/nba/team/_/name/orl/orland...  \n",
      "Washington Wizards      http://www.espn.com/nba/team/_/name/wsh/washin...  \n",
      "Denver Nuggets          http://www.espn.com/nba/team/_/name/den/denver...  \n",
      "Minnesota Timberwolves  http://www.espn.com/nba/team/_/name/min/minnes...  \n",
      "Oklahoma City Thunder   http://www.espn.com/nba/team/_/name/okc/oklaho...  \n",
      "Portland Trail Blazers  http://www.espn.com/nba/team/_/name/por/portla...  \n",
      "Utah Jazz               http://www.espn.com/nba/team/_/name/utah/utah-...  \n"
     ]
    }
   ],
   "source": [
    "%run team.py"
   ]
  },
  {
   "cell_type": "code",
   "execution_count": 32,
   "metadata": {
    "collapsed": false
   },
   "outputs": [
    {
     "ename": "EmptyDataError",
     "evalue": "No columns to parse from file",
     "output_type": "error",
     "traceback": [
      "\u001b[0;31m---------------------------------------------------------------------------\u001b[0m",
      "\u001b[0;31mEmptyDataError\u001b[0m                            Traceback (most recent call last)",
      "\u001b[0;32m<ipython-input-32-a2654e8a4be0>\u001b[0m in \u001b[0;36m<module>\u001b[0;34m()\u001b[0m\n\u001b[1;32m      8\u001b[0m \u001b[1;33m\u001b[0m\u001b[0m\n\u001b[1;32m      9\u001b[0m \u001b[0myear\u001b[0m \u001b[1;33m=\u001b[0m \u001b[1;36m2013\u001b[0m\u001b[1;33m\u001b[0m\u001b[0m\n\u001b[0;32m---> 10\u001b[0;31m \u001b[0mteams\u001b[0m \u001b[1;33m=\u001b[0m \u001b[0mpd\u001b[0m\u001b[1;33m.\u001b[0m\u001b[0mread_csv\u001b[0m\u001b[1;33m(\u001b[0m\u001b[1;34m'team.csv'\u001b[0m\u001b[1;33m)\u001b[0m\u001b[1;33m\u001b[0m\u001b[0m\n\u001b[0m\u001b[1;32m     11\u001b[0m \u001b[0mBASE_URL\u001b[0m \u001b[1;33m=\u001b[0m \u001b[1;34m'http://espn.go.com/nba/team/schedule/_/name/{0}/year/{1}/{2}'\u001b[0m\u001b[1;33m\u001b[0m\u001b[0m\n\u001b[1;32m     12\u001b[0m \u001b[1;33m\u001b[0m\u001b[0m\n",
      "\u001b[0;32md:\\Users\\TOM\\Anaconda2\\lib\\site-packages\\pandas\\io\\parsers.pyc\u001b[0m in \u001b[0;36mparser_f\u001b[0;34m(filepath_or_buffer, sep, delimiter, header, names, index_col, usecols, squeeze, prefix, mangle_dupe_cols, dtype, engine, converters, true_values, false_values, skipinitialspace, skiprows, skipfooter, nrows, na_values, keep_default_na, na_filter, verbose, skip_blank_lines, parse_dates, infer_datetime_format, keep_date_col, date_parser, dayfirst, iterator, chunksize, compression, thousands, decimal, lineterminator, quotechar, quoting, escapechar, comment, encoding, dialect, tupleize_cols, error_bad_lines, warn_bad_lines, skip_footer, doublequote, delim_whitespace, as_recarray, compact_ints, use_unsigned, low_memory, buffer_lines, memory_map, float_precision)\u001b[0m\n\u001b[1;32m    560\u001b[0m                     skip_blank_lines=skip_blank_lines)\n\u001b[1;32m    561\u001b[0m \u001b[1;33m\u001b[0m\u001b[0m\n\u001b[0;32m--> 562\u001b[0;31m         \u001b[1;32mreturn\u001b[0m \u001b[0m_read\u001b[0m\u001b[1;33m(\u001b[0m\u001b[0mfilepath_or_buffer\u001b[0m\u001b[1;33m,\u001b[0m \u001b[0mkwds\u001b[0m\u001b[1;33m)\u001b[0m\u001b[1;33m\u001b[0m\u001b[0m\n\u001b[0m\u001b[1;32m    563\u001b[0m \u001b[1;33m\u001b[0m\u001b[0m\n\u001b[1;32m    564\u001b[0m     \u001b[0mparser_f\u001b[0m\u001b[1;33m.\u001b[0m\u001b[0m__name__\u001b[0m \u001b[1;33m=\u001b[0m \u001b[0mname\u001b[0m\u001b[1;33m\u001b[0m\u001b[0m\n",
      "\u001b[0;32md:\\Users\\TOM\\Anaconda2\\lib\\site-packages\\pandas\\io\\parsers.pyc\u001b[0m in \u001b[0;36m_read\u001b[0;34m(filepath_or_buffer, kwds)\u001b[0m\n\u001b[1;32m    313\u001b[0m \u001b[1;33m\u001b[0m\u001b[0m\n\u001b[1;32m    314\u001b[0m     \u001b[1;31m# Create the parser.\u001b[0m\u001b[1;33m\u001b[0m\u001b[1;33m\u001b[0m\u001b[0m\n\u001b[0;32m--> 315\u001b[0;31m     \u001b[0mparser\u001b[0m \u001b[1;33m=\u001b[0m \u001b[0mTextFileReader\u001b[0m\u001b[1;33m(\u001b[0m\u001b[0mfilepath_or_buffer\u001b[0m\u001b[1;33m,\u001b[0m \u001b[1;33m**\u001b[0m\u001b[0mkwds\u001b[0m\u001b[1;33m)\u001b[0m\u001b[1;33m\u001b[0m\u001b[0m\n\u001b[0m\u001b[1;32m    316\u001b[0m \u001b[1;33m\u001b[0m\u001b[0m\n\u001b[1;32m    317\u001b[0m     \u001b[1;32mif\u001b[0m \u001b[1;33m(\u001b[0m\u001b[0mnrows\u001b[0m \u001b[1;32mis\u001b[0m \u001b[1;32mnot\u001b[0m \u001b[0mNone\u001b[0m\u001b[1;33m)\u001b[0m \u001b[1;32mand\u001b[0m \u001b[1;33m(\u001b[0m\u001b[0mchunksize\u001b[0m \u001b[1;32mis\u001b[0m \u001b[1;32mnot\u001b[0m \u001b[0mNone\u001b[0m\u001b[1;33m)\u001b[0m\u001b[1;33m:\u001b[0m\u001b[1;33m\u001b[0m\u001b[0m\n",
      "\u001b[0;32md:\\Users\\TOM\\Anaconda2\\lib\\site-packages\\pandas\\io\\parsers.pyc\u001b[0m in \u001b[0;36m__init__\u001b[0;34m(self, f, engine, **kwds)\u001b[0m\n\u001b[1;32m    643\u001b[0m             \u001b[0mself\u001b[0m\u001b[1;33m.\u001b[0m\u001b[0moptions\u001b[0m\u001b[1;33m[\u001b[0m\u001b[1;34m'has_index_names'\u001b[0m\u001b[1;33m]\u001b[0m \u001b[1;33m=\u001b[0m \u001b[0mkwds\u001b[0m\u001b[1;33m[\u001b[0m\u001b[1;34m'has_index_names'\u001b[0m\u001b[1;33m]\u001b[0m\u001b[1;33m\u001b[0m\u001b[0m\n\u001b[1;32m    644\u001b[0m \u001b[1;33m\u001b[0m\u001b[0m\n\u001b[0;32m--> 645\u001b[0;31m         \u001b[0mself\u001b[0m\u001b[1;33m.\u001b[0m\u001b[0m_make_engine\u001b[0m\u001b[1;33m(\u001b[0m\u001b[0mself\u001b[0m\u001b[1;33m.\u001b[0m\u001b[0mengine\u001b[0m\u001b[1;33m)\u001b[0m\u001b[1;33m\u001b[0m\u001b[0m\n\u001b[0m\u001b[1;32m    646\u001b[0m \u001b[1;33m\u001b[0m\u001b[0m\n\u001b[1;32m    647\u001b[0m     \u001b[1;32mdef\u001b[0m \u001b[0mclose\u001b[0m\u001b[1;33m(\u001b[0m\u001b[0mself\u001b[0m\u001b[1;33m)\u001b[0m\u001b[1;33m:\u001b[0m\u001b[1;33m\u001b[0m\u001b[0m\n",
      "\u001b[0;32md:\\Users\\TOM\\Anaconda2\\lib\\site-packages\\pandas\\io\\parsers.pyc\u001b[0m in \u001b[0;36m_make_engine\u001b[0;34m(self, engine)\u001b[0m\n\u001b[1;32m    797\u001b[0m     \u001b[1;32mdef\u001b[0m \u001b[0m_make_engine\u001b[0m\u001b[1;33m(\u001b[0m\u001b[0mself\u001b[0m\u001b[1;33m,\u001b[0m \u001b[0mengine\u001b[0m\u001b[1;33m=\u001b[0m\u001b[1;34m'c'\u001b[0m\u001b[1;33m)\u001b[0m\u001b[1;33m:\u001b[0m\u001b[1;33m\u001b[0m\u001b[0m\n\u001b[1;32m    798\u001b[0m         \u001b[1;32mif\u001b[0m \u001b[0mengine\u001b[0m \u001b[1;33m==\u001b[0m \u001b[1;34m'c'\u001b[0m\u001b[1;33m:\u001b[0m\u001b[1;33m\u001b[0m\u001b[0m\n\u001b[0;32m--> 799\u001b[0;31m             \u001b[0mself\u001b[0m\u001b[1;33m.\u001b[0m\u001b[0m_engine\u001b[0m \u001b[1;33m=\u001b[0m \u001b[0mCParserWrapper\u001b[0m\u001b[1;33m(\u001b[0m\u001b[0mself\u001b[0m\u001b[1;33m.\u001b[0m\u001b[0mf\u001b[0m\u001b[1;33m,\u001b[0m \u001b[1;33m**\u001b[0m\u001b[0mself\u001b[0m\u001b[1;33m.\u001b[0m\u001b[0moptions\u001b[0m\u001b[1;33m)\u001b[0m\u001b[1;33m\u001b[0m\u001b[0m\n\u001b[0m\u001b[1;32m    800\u001b[0m         \u001b[1;32melse\u001b[0m\u001b[1;33m:\u001b[0m\u001b[1;33m\u001b[0m\u001b[0m\n\u001b[1;32m    801\u001b[0m             \u001b[1;32mif\u001b[0m \u001b[0mengine\u001b[0m \u001b[1;33m==\u001b[0m \u001b[1;34m'python'\u001b[0m\u001b[1;33m:\u001b[0m\u001b[1;33m\u001b[0m\u001b[0m\n",
      "\u001b[0;32md:\\Users\\TOM\\Anaconda2\\lib\\site-packages\\pandas\\io\\parsers.pyc\u001b[0m in \u001b[0;36m__init__\u001b[0;34m(self, src, **kwds)\u001b[0m\n\u001b[1;32m   1211\u001b[0m         \u001b[0mkwds\u001b[0m\u001b[1;33m[\u001b[0m\u001b[1;34m'allow_leading_cols'\u001b[0m\u001b[1;33m]\u001b[0m \u001b[1;33m=\u001b[0m \u001b[0mself\u001b[0m\u001b[1;33m.\u001b[0m\u001b[0mindex_col\u001b[0m \u001b[1;32mis\u001b[0m \u001b[1;32mnot\u001b[0m \u001b[0mFalse\u001b[0m\u001b[1;33m\u001b[0m\u001b[0m\n\u001b[1;32m   1212\u001b[0m \u001b[1;33m\u001b[0m\u001b[0m\n\u001b[0;32m-> 1213\u001b[0;31m         \u001b[0mself\u001b[0m\u001b[1;33m.\u001b[0m\u001b[0m_reader\u001b[0m \u001b[1;33m=\u001b[0m \u001b[0m_parser\u001b[0m\u001b[1;33m.\u001b[0m\u001b[0mTextReader\u001b[0m\u001b[1;33m(\u001b[0m\u001b[0msrc\u001b[0m\u001b[1;33m,\u001b[0m \u001b[1;33m**\u001b[0m\u001b[0mkwds\u001b[0m\u001b[1;33m)\u001b[0m\u001b[1;33m\u001b[0m\u001b[0m\n\u001b[0m\u001b[1;32m   1214\u001b[0m \u001b[1;33m\u001b[0m\u001b[0m\n\u001b[1;32m   1215\u001b[0m         \u001b[1;31m# XXX\u001b[0m\u001b[1;33m\u001b[0m\u001b[1;33m\u001b[0m\u001b[0m\n",
      "\u001b[0;32mpandas\\parser.pyx\u001b[0m in \u001b[0;36mpandas.parser.TextReader.__cinit__ (pandas\\parser.c:5214)\u001b[0;34m()\u001b[0m\n",
      "\u001b[0;31mEmptyDataError\u001b[0m: No columns to parse from file"
     ]
    }
   ],
   "source": [
    "\n",
    "import numpy as np\n",
    "import pandas as pd\n",
    "import requests\n",
    "from bs4 import BeautifulSoup\n",
    "from datetime import datetime, date\n",
    "\n",
    "\n",
    "year = 2013\n",
    "teams = pd.read_csv('../team.csv')\n",
    "BASE_URL = 'http://espn.go.com/nba/team/schedule/_/name/{0}/year/{1}/{2}'\n",
    "\n",
    "print(teams)\n",
    "# match_id = []\n",
    "# dates = []\n",
    "# home_team = []\n",
    "# home_team_score = []\n",
    "# visit_team = []\n",
    "# visit_team_score = []\n",
    "\n",
    "# for index, row in teams.iterrows():\n",
    "#     _team, url = row['team'], row['url']\n",
    "#     r = requests.get(BASE_URL.format(row['abbr_1'], year, row['abbr_2']))\n",
    "#     table = BeautifulSoup(r.text).table\n",
    "#     for row in table.find_all('tr')[1:]: # Remove header\n",
    "#         columns = row.find_all('td')\n",
    "#         try:\n",
    "#             _home = True if columns[1].li.text == 'vs' else False\n",
    "#             _other_team = columns[1].find_all('a')[1].text\n",
    "#             _score = columns[2].a.text.split(' ')[0].split('-')\n",
    "#             _won = True if columns[2].span.text == 'W' else False\n",
    "\n",
    "#             match_id.append(columns[2].a['href'].split('?id=')[1])\n",
    "#             home_team.append(_team if _home else _other_team)\n",
    "#             visit_team.append(_team if not _home else _other_team)\n",
    "#             d = datetime.strptime(columns[0].text, '%a, %b %d')\n",
    "#             dates.append(date(year, d.month, d.day))\n",
    "\n",
    "#             if _home:\n",
    "#                 if _won:\n",
    "#                     home_team_score.append(_score[0])\n",
    "#                     visit_team_score.append(_score[1])\n",
    "#                 else:\n",
    "#                     home_team_score.append(_score[1])\n",
    "#                     visit_team_score.append(_score[0])\n",
    "#             else:\n",
    "#                 if _won:\n",
    "#                     home_team_score.append(_score[1])\n",
    "#                     visit_team_score.append(_score[0])\n",
    "#                 else:\n",
    "#                     home_team_score.append(_score[0])\n",
    "#                     visit_team_score.append(_score[1])\n",
    "#         except Exception as e:\n",
    "#             pass # Not all columns row are a match, is OK\n",
    "#             # print(e)\n",
    "\n",
    "# dic = {'id': match_id, 'date': dates, 'home_team': home_team, 'visit_team': visit_team,\n",
    "#         'home_team_score': home_team_score, 'visit_team_score': visit_team_score}\n",
    "\n",
    "# games = pd.DataFrame(dic).drop_duplicates(cols='id').set_index('id')\n",
    "# print(games)\n",
    "# copper.save(games, 'games')"
   ]
  },
  {
   "cell_type": "code",
   "execution_count": null,
   "metadata": {
    "collapsed": true
   },
   "outputs": [],
   "source": []
  }
 ],
 "metadata": {
  "anaconda-cloud": {},
  "kernelspec": {
   "display_name": "Python [default]",
   "language": "python",
   "name": "python2"
  },
  "language_info": {
   "codemirror_mode": {
    "name": "ipython",
    "version": 2
   },
   "file_extension": ".py",
   "mimetype": "text/x-python",
   "name": "python",
   "nbconvert_exporter": "python",
   "pygments_lexer": "ipython2",
   "version": "2.7.12"
  }
 },
 "nbformat": 4,
 "nbformat_minor": 1
}
